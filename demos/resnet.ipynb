{
  "nbformat": 4,
  "nbformat_minor": 0,
  "metadata": {
    "colab": {
      "name": "mnist.ipynb",
      "provenance": [],
      "authorship_tag": "ABX9TyMMv0Hsj23VnVQJrII0h64p",
      "include_colab_link": true
    },
    "kernelspec": {
      "name": "python3",
      "display_name": "Python 3"
    },
    "accelerator": "GPU"
  },
  "cells": [
    {
      "cell_type": "markdown",
      "metadata": {
        "id": "view-in-github",
        "colab_type": "text"
      },
      "source": [
        "<a href=\"https://colab.research.google.com/github/NesterukSergey/hidden-networks/blob/master/demos/resnet.ipynb\" target=\"_parent\"><img src=\"https://colab.research.google.com/assets/colab-badge.svg\" alt=\"Open In Colab\"/></a>"
      ]
    },
    {
      "cell_type": "code",
      "metadata": {
        "id": "5xmOhgVIHOwh",
        "colab_type": "code",
        "colab": {}
      },
      "source": [
        "from __future__ import print_function\n",
        "import argparse\n",
        "import os\n",
        "import math\n",
        "from types import SimpleNamespace\n",
        "from tqdm import tqdm\n",
        "\n",
        "import numpy as np\n",
        "import pandas as pd\n",
        "import matplotlib.pyplot as plt\n",
        "from sklearn.metrics import roc_curve, auc, roc_auc_score\n",
        "from sklearn.preprocessing import label_binarize\n",
        "\n",
        "import torch\n",
        "import torch.nn as nn\n",
        "import torch.nn.functional as F\n",
        "import torch.optim as optim\n",
        "from torchvision import datasets, transforms\n",
        "import torchvision.transforms.functional as TF\n",
        "from torch.optim.lr_scheduler import CosineAnnealingLR\n",
        "import torch.autograd as autograd"
      ],
      "execution_count": 0,
      "outputs": []
    },
    {
      "cell_type": "code",
      "metadata": {
        "id": "5hU3eIxdF6IH",
        "colab_type": "code",
        "colab": {}
      },
      "source": [
        "np.random.seed(0)\n",
        "torch.manual_seed(0)\n",
        "torch.backends.cudnn.deterministic = True\n",
        "torch.backends.cudnn.benchmark = False"
      ],
      "execution_count": 0,
      "outputs": []
    },
    {
      "cell_type": "code",
      "metadata": {
        "id": "kC1Kz0ph6QO2",
        "colab_type": "code",
        "colab": {}
      },
      "source": [
        "# !git clone -l -s https://github.com/NesterukSergey/hidden-networks.git cloned-repo\n",
        "# %cd cloned-repo\n",
        "# !ls"
      ],
      "execution_count": 0,
      "outputs": []
    },
    {
      "cell_type": "code",
      "metadata": {
        "id": "8b4HQQ61g4D3",
        "colab_type": "code",
        "colab": {}
      },
      "source": [
        "# import utils\n",
        "# from utils import *"
      ],
      "execution_count": 0,
      "outputs": []
    },
    {
      "cell_type": "code",
      "metadata": {
        "id": "5KEQOHkdi-nS",
        "colab_type": "code",
        "colab": {}
      },
      "source": [
        "# %cd ../\n",
        "# !pwd\n",
        "# !ls"
      ],
      "execution_count": 0,
      "outputs": []
    },
    {
      "cell_type": "code",
      "metadata": {
        "id": "nJptMWLbkP-v",
        "colab_type": "code",
        "colab": {
          "base_uri": "https://localhost:8080/",
          "height": 145
        },
        "outputId": "34f0060d-5d78-49c9-f4af-b0a057e5213b"
      },
      "source": [
        "# Tiny ImageNet\n",
        "!git clone -l -s https://github.com/seshuad/IMagenet.git tinyimagenet-repo"
      ],
      "execution_count": 6,
      "outputs": [
        {
          "output_type": "stream",
          "text": [
            "Cloning into 'tinyimagenet-repo'...\n",
            "warning: --local is ignored\n",
            "remote: Enumerating objects: 120594, done.\u001b[K\n",
            "remote: Total 120594 (delta 0), reused 0 (delta 0), pack-reused 120594\u001b[K\n",
            "Receiving objects: 100% (120594/120594), 212.68 MiB | 11.51 MiB/s, done.\n",
            "Resolving deltas: 100% (1115/1115), done.\n",
            "Checking out files: 100% (120206/120206), done.\n"
          ],
          "name": "stdout"
        }
      ]
    },
    {
      "cell_type": "code",
      "metadata": {
        "id": "5K91bjVLk-fk",
        "colab_type": "code",
        "colab": {
          "base_uri": "https://localhost:8080/",
          "height": 35
        },
        "outputId": "71a4bfb5-2fc8-417a-a793-27631c24b05f"
      },
      "source": [
        "!ls tinyimagenet-repo"
      ],
      "execution_count": 7,
      "outputs": [
        {
          "output_type": "stream",
          "text": [
            "README.md  tiny-imagenet-200  TinyImagenet.ipynb  TinyImagenet.py\n"
          ],
          "name": "stdout"
        }
      ]
    },
    {
      "cell_type": "code",
      "metadata": {
        "id": "6BHVeUVtvhUq",
        "colab_type": "code",
        "colab": {}
      },
      "source": [
        "data_transforms = {\n",
        "    'train': transforms.Compose([\n",
        "        transforms.RandomHorizontalFlip(),\n",
        "        transforms.ToTensor(),\n",
        "        transforms.Normalize([0.485, 0.456, 0.406], [0.229, 0.224, 0.225])\n",
        "    ]),\n",
        "    'val': transforms.Compose([\n",
        "        transforms.ToTensor(),\n",
        "        transforms.Normalize([0.485, 0.456, 0.406], [0.229, 0.224, 0.225])\n",
        "    ]),\n",
        "}"
      ],
      "execution_count": 0,
      "outputs": []
    },
    {
      "cell_type": "code",
      "metadata": {
        "id": "i22PC4Alo_a1",
        "colab_type": "code",
        "colab": {}
      },
      "source": [
        "tiny_imagenet_train_dataset = datasets.ImageFolder('./tinyimagenet-repo/tiny-imagenet-200/train', transform=data_transforms['train'])\n",
        "tiny_imagenet_test_dataset = datasets.ImageFolder('./tinyimagenet-repo/tiny-imagenet-200/test', transform=data_transforms['val'])\n",
        "tiny_imagenet_val_dataset = datasets.ImageFolder('./tinyimagenet-repo/tiny-imagenet-200/val', transform=data_transforms['val'])"
      ],
      "execution_count": 0,
      "outputs": []
    },
    {
      "cell_type": "code",
      "metadata": {
        "id": "R-ECeQOwqv0N",
        "colab_type": "code",
        "colab": {}
      },
      "source": [
        "tiny_imagenet_train_dataloader = torch.utils.data.DataLoader(tiny_imagenet_train_dataset, batch_size=32, shuffle=True, num_workers=8)\n",
        "tiny_imagenet_test_dataloader = torch.utils.data.DataLoader(tiny_imagenet_test_dataset, batch_size=32, shuffle=False, num_workers=8)\n",
        "tiny_imagenet_val_dataloader = torch.utils.data.DataLoader(tiny_imagenet_val_dataset, batch_size=32, shuffle=False, num_workers=8)"
      ],
      "execution_count": 0,
      "outputs": []
    },
    {
      "cell_type": "code",
      "metadata": {
        "id": "rrdqoFeKqv5V",
        "colab_type": "code",
        "colab": {
          "base_uri": "https://localhost:8080/",
          "height": 35
        },
        "outputId": "3691c2a7-ac71-4618-cf5b-17e350cd8e29"
      },
      "source": [
        "iter(tiny_imagenet_train_dataloader).next()[0].shape"
      ],
      "execution_count": 11,
      "outputs": [
        {
          "output_type": "execute_result",
          "data": {
            "text/plain": [
              "torch.Size([32, 3, 64, 64])"
            ]
          },
          "metadata": {
            "tags": []
          },
          "execution_count": 11
        }
      ]
    },
    {
      "cell_type": "code",
      "metadata": {
        "id": "y4ZGlHLOBFir",
        "colab_type": "code",
        "colab": {}
      },
      "source": [
        "LearnedBatchNorm = nn.BatchNorm2d\n",
        "\n",
        "class NonAffineBatchNorm(nn.BatchNorm2d):\n",
        "    def __init__(self, dim):\n",
        "        super(NonAffineBatchNorm, self).__init__(dim, affine=False)"
      ],
      "execution_count": 0,
      "outputs": []
    },
    {
      "cell_type": "code",
      "metadata": {
        "id": "7k9TAkyJL4tL",
        "colab_type": "code",
        "colab": {}
      },
      "source": [
        "DenseConv = nn.Conv2d\n",
        "\n",
        "class GetSubnet(autograd.Function):\n",
        "    @staticmethod\n",
        "    def forward(ctx, scores, k):\n",
        "        # Get the subnetwork by sorting the scores and using the top k%\n",
        "        out = scores.clone()\n",
        "        _, idx = scores.flatten().sort()\n",
        "        j = int((1 - k) * scores.numel())\n",
        "\n",
        "        # flat_out and out access the same memory.\n",
        "        flat_out = out.flatten()\n",
        "        flat_out[idx[:j]] = 0\n",
        "        flat_out[idx[j:]] = 1\n",
        "\n",
        "        return out\n",
        "\n",
        "    @staticmethod\n",
        "    def backward(ctx, g):\n",
        "        # send the gradient g straight-through on the backward pass.\n",
        "        return g, None\n",
        "\n",
        "\n",
        "# Not learning weights, finding subnet\n",
        "class SubnetConv(nn.Conv2d):\n",
        "    def __init__(self, *args, prune_rate=0.3, **kwargs):\n",
        "        super().__init__(*args, **kwargs)\n",
        "        self.set_prune_rate(prune_rate=prune_rate)\n",
        "\n",
        "        self.scores = nn.Parameter(torch.Tensor(self.weight.size()))\n",
        "        nn.init.kaiming_uniform_(self.scores, a=math.sqrt(5))\n",
        "\n",
        "    def set_prune_rate(self, prune_rate):\n",
        "        self.prune_rate = prune_rate\n",
        "\n",
        "    @property\n",
        "    def clamped_scores(self):\n",
        "        return self.scores.abs()\n",
        "\n",
        "    def forward(self, x):\n",
        "        subnet = GetSubnet.apply(self.clamped_scores, self.prune_rate)\n",
        "        w = self.weight * subnet\n",
        "        x = F.conv2d(\n",
        "            x, w, self.bias, self.stride, self.padding, self.dilation, self.groups\n",
        "        )\n",
        "        return x\n",
        "\n",
        "\n",
        "\"\"\"\n",
        "Sample Based Sparsification\n",
        "\"\"\"\n",
        "\n",
        "\n",
        "class StraightThroughBinomialSample(autograd.Function):\n",
        "    @staticmethod\n",
        "    def forward(ctx, scores):\n",
        "        output = (torch.rand_like(scores) < scores).float()\n",
        "        return output\n",
        "\n",
        "    @staticmethod\n",
        "    def backward(ctx, grad_outputs):\n",
        "        return grad_outputs, None\n",
        "\n",
        "\n",
        "class BinomialSample(autograd.Function):\n",
        "    @staticmethod\n",
        "    def forward(ctx, scores):\n",
        "        output = (torch.rand_like(scores) < scores).float()\n",
        "        ctx.save_for_backward(output)\n",
        "\n",
        "        return output\n",
        "\n",
        "    @staticmethod\n",
        "    def backward(ctx, grad_outputs):\n",
        "        subnet, = ctx.saved_variables\n",
        "\n",
        "        grad_inputs = grad_outputs.clone()\n",
        "        grad_inputs[subnet == 0.0] = 0.0\n",
        "\n",
        "        return grad_inputs, None\n",
        "\n",
        "\n",
        "# Not learning weights, finding subnet\n",
        "class SampleSubnetConv(nn.Conv2d):\n",
        "    def __init__(self, *args, **kwargs):\n",
        "        super().__init__(*args, **kwargs)\n",
        "\n",
        "        self.scores = nn.Parameter(torch.Tensor(self.weight.size()))\n",
        "        if parser_args.score_init_constant is not None:\n",
        "            self.scores.data = (\n",
        "                torch.ones_like(self.scores) * parser_args.score_init_constant\n",
        "            )\n",
        "        else:\n",
        "            nn.init.kaiming_uniform_(self.scores, a=math.sqrt(5))\n",
        "\n",
        "    @property\n",
        "    def clamped_scores(self):\n",
        "        return torch.sigmoid(self.scores)\n",
        "\n",
        "    def forward(self, x):\n",
        "        subnet = StraightThroughBinomialSample.apply(self.clamped_scores)\n",
        "        w = self.weight * subnet\n",
        "        x = F.conv2d(\n",
        "            x, w, self.bias, self.stride, self.padding, self.dilation, self.groups\n",
        "        )\n",
        "\n",
        "        return x\n",
        "\n",
        "\n",
        "\"\"\"\n",
        "Fixed subnets \n",
        "\"\"\"\n",
        "\n",
        "\n",
        "class FixedSubnetConv(nn.Conv2d):\n",
        "    def __init__(self, *args, prune_rate=0.3, **kwargs):\n",
        "        super().__init__(*args, **kwargs)\n",
        "        self.set_prune_rate(prune_rate=prune_rate)\n",
        "\n",
        "        self.scores = nn.Parameter(torch.Tensor(self.weight.size()))\n",
        "        nn.init.kaiming_uniform_(self.scores, a=math.sqrt(5))\n",
        "\n",
        "    def set_prune_rate(self, prune_rate):\n",
        "        self.prune_rate = prune_rate\n",
        "        print(\"prune_rate_{}\".format(self.prune_rate))\n",
        "\n",
        "    def set_subnet(self):\n",
        "        output = self.clamped_scores().clone()\n",
        "        _, idx = self.clamped_scores().flatten().abs().sort()\n",
        "        p = int(self.prune_rate * self.clamped_scores().numel())\n",
        "        flat_oup = output.flatten()\n",
        "        flat_oup[idx[:p]] = 0\n",
        "        flat_oup[idx[p:]] = 1\n",
        "        self.scores = torch.nn.Parameter(output)\n",
        "        self.scores.requires_grad = False\n",
        "\n",
        "    def clamped_scores(self):\n",
        "        return self.scores.abs()\n",
        "\n",
        "    def get_subnet(self):\n",
        "        return self.weight * self.scores\n",
        "\n",
        "    def forward(self, x):\n",
        "        w = self.get_subnet()\n",
        "        x = F.conv2d(\n",
        "            x, w, self.bias, self.stride, self.padding, self.dilation, self.groups\n",
        "        )\n",
        "        return x"
      ],
      "execution_count": 0,
      "outputs": []
    },
    {
      "cell_type": "code",
      "metadata": {
        "id": "uZLJxx-YL4oA",
        "colab_type": "code",
        "colab": {}
      },
      "source": [
        "class Builder(object):\n",
        "    def __init__(self, conv_layer, bn_layer, first_layer=None):\n",
        "        self.conv_layer = conv_layer\n",
        "        self.bn_layer = bn_layer\n",
        "        self.first_layer = first_layer or conv_layer\n",
        "\n",
        "    def conv(self, kernel_size, in_planes, out_planes, stride=1, first_layer=False):\n",
        "        conv_layer = self.first_layer if first_layer else self.conv_layer\n",
        "\n",
        "        if first_layer:\n",
        "            print(f\"==> Building first layer with {str(self.first_layer)}\")\n",
        "\n",
        "        if kernel_size == 3:\n",
        "            conv = conv_layer(\n",
        "                in_planes,\n",
        "                out_planes,\n",
        "                kernel_size=3,\n",
        "                stride=stride,\n",
        "                padding=1,\n",
        "                bias=False,\n",
        "            )\n",
        "        elif kernel_size == 1:\n",
        "            conv = conv_layer(\n",
        "                in_planes, out_planes, kernel_size=1, stride=stride, bias=False\n",
        "            )\n",
        "        elif kernel_size == 5:\n",
        "            conv = conv_layer(\n",
        "                in_planes,\n",
        "                out_planes,\n",
        "                kernel_size=5,\n",
        "                stride=stride,\n",
        "                padding=2,\n",
        "                bias=False,\n",
        "            )\n",
        "        elif kernel_size == 7:\n",
        "            conv = conv_layer(\n",
        "                in_planes,\n",
        "                out_planes,\n",
        "                kernel_size=7,\n",
        "                stride=stride,\n",
        "                padding=3,\n",
        "                bias=False,\n",
        "            )\n",
        "        else:\n",
        "            return None\n",
        "\n",
        "        self._init_conv(conv)\n",
        "\n",
        "        return conv\n",
        "\n",
        "    def conv3x3(self, in_planes, out_planes, stride=1, first_layer=False):\n",
        "        \"\"\"3x3 convolution with padding\"\"\"\n",
        "        c = self.conv(3, in_planes, out_planes, stride=stride, first_layer=first_layer)\n",
        "        return c\n",
        "\n",
        "    def conv1x1(self, in_planes, out_planes, stride=1, first_layer=False):\n",
        "        \"\"\"1x1 convolution with padding\"\"\"\n",
        "        c = self.conv(1, in_planes, out_planes, stride=stride, first_layer=first_layer)\n",
        "        return c\n",
        "\n",
        "    def conv7x7(self, in_planes, out_planes, stride=1, first_layer=False):\n",
        "        \"\"\"7x7 convolution with padding\"\"\"\n",
        "        c = self.conv(7, in_planes, out_planes, stride=stride, first_layer=first_layer)\n",
        "        return c\n",
        "\n",
        "    def conv5x5(self, in_planes, out_planes, stride=1, first_layer=False):\n",
        "        \"\"\"5x5 convolution with padding\"\"\"\n",
        "        c = self.conv(5, in_planes, out_planes, stride=stride, first_layer=first_layer)\n",
        "        return c\n",
        "\n",
        "    def batchnorm(self, planes, last_bn=False, first_layer=False):\n",
        "        return self.bn_layer(planes)\n",
        "\n",
        "    def activation(self):\n",
        "        if args.nonlinearity == \"relu\":\n",
        "            return (lambda: nn.ReLU(inplace=True))()\n",
        "        else:\n",
        "            raise ValueError(f\"{args.nonlinearity} is not an initialization option!\")\n",
        "\n",
        "    def _init_conv(self, conv):\n",
        "        if args.init == \"signed_constant\":\n",
        "\n",
        "            fan = nn.init._calculate_correct_fan(conv.weight, args.mode)\n",
        "            if args.scale_fan:\n",
        "                fan = fan * (1 - args.prune_rate)\n",
        "            gain = nn.init.calculate_gain(args.nonlinearity)\n",
        "            std = gain / math.sqrt(fan)\n",
        "            conv.weight.data = conv.weight.data.sign() * std\n",
        "\n",
        "        elif args.init == \"unsigned_constant\":\n",
        "\n",
        "            fan = nn.init._calculate_correct_fan(conv.weight, args.mode)\n",
        "            if args.scale_fan:\n",
        "                fan = fan * (1 - args.prune_rate)\n",
        "\n",
        "            gain = nn.init.calculate_gain(args.nonlinearity)\n",
        "            std = gain / math.sqrt(fan)\n",
        "            conv.weight.data = torch.ones_like(conv.weight.data) * std\n",
        "\n",
        "        elif args.init == \"kaiming_normal\":\n",
        "\n",
        "            if args.scale_fan:\n",
        "                fan = nn.init._calculate_correct_fan(conv.weight, args.mode)\n",
        "                fan = fan * (1 - args.prune_rate)\n",
        "                gain = nn.init.calculate_gain(args.nonlinearity)\n",
        "                std = gain / math.sqrt(fan)\n",
        "                with torch.no_grad():\n",
        "                    conv.weight.data.normal_(0, std)\n",
        "            else:\n",
        "                nn.init.kaiming_normal_(\n",
        "                    conv.weight, mode=args.mode, nonlinearity=args.nonlinearity\n",
        "                )\n",
        "\n",
        "        elif args.init == \"kaiming_uniform\":\n",
        "            nn.init.kaiming_uniform_(\n",
        "                conv.weight, mode=args.mode, nonlinearity=args.nonlinearity\n",
        "            )\n",
        "        elif args.init == \"xavier_normal\":\n",
        "            nn.init.xavier_normal_(conv.weight)\n",
        "        elif args.init == \"xavier_constant\":\n",
        "\n",
        "            fan_in, fan_out = nn.init._calculate_fan_in_and_fan_out(conv.weight)\n",
        "            std = math.sqrt(2.0 / float(fan_in + fan_out))\n",
        "            conv.weight.data = conv.weight.data.sign() * std\n",
        "\n",
        "        elif args.init == \"standard\":\n",
        "\n",
        "            nn.init.kaiming_uniform_(conv.weight, a=math.sqrt(5))\n",
        "\n",
        "        else:\n",
        "            raise ValueError(f\"{args.init} is not an initialization option!\")\n",
        "\n",
        "\n",
        "def get_builder():\n",
        "\n",
        "    print(\"==> Conv Type: {}\".format(args.conv_type))\n",
        "    print(\"==> BN Type: {}\".format(args.bn_type))\n",
        "\n",
        "    conv_layer = SubnetConv\n",
        "    bn_layer = NonAffineBatchNorm\n",
        "\n",
        "    if args.first_layer_type is not None:\n",
        "        first_layer = getattr(conv_type, args.first_layer_type)\n",
        "        print(f\"==> First Layer Type: {args.first_layer_type}\")\n",
        "    else:\n",
        "        first_layer = None\n",
        "\n",
        "    builder = Builder(conv_layer=conv_layer, bn_layer=bn_layer, first_layer=first_layer)\n",
        "\n",
        "    return builder"
      ],
      "execution_count": 0,
      "outputs": []
    },
    {
      "cell_type": "code",
      "metadata": {
        "id": "xwWpb-z176z8",
        "colab_type": "code",
        "colab": {}
      },
      "source": [
        "# BasicBlock {{{\n",
        "class BasicBlock(nn.Module):\n",
        "    M = 2\n",
        "    expansion = 1\n",
        "\n",
        "    def __init__(self, builder, inplanes, planes, stride=1, downsample=None, base_width=64):\n",
        "        super(BasicBlock, self).__init__()\n",
        "        if base_width / 64 > 1:\n",
        "            raise ValueError(\"Base width >64 does not work for BasicBlock\")\n",
        "\n",
        "        self.conv1 = builder.conv3x3(inplanes, planes, stride)\n",
        "        self.bn1 = builder.batchnorm(planes)\n",
        "        self.relu = builder.activation()\n",
        "        self.conv2 = builder.conv3x3(planes, planes)\n",
        "        self.bn2 = builder.batchnorm(planes, last_bn=True)\n",
        "        self.downsample = downsample\n",
        "        self.stride = stride\n",
        "\n",
        "    def forward(self, x):\n",
        "        residual = x\n",
        "\n",
        "        out = self.conv1(x)\n",
        "        if self.bn1 is not None:\n",
        "            out = self.bn1(out)\n",
        "\n",
        "        out = self.relu(out)\n",
        "\n",
        "        out = self.conv2(out)\n",
        "\n",
        "        if self.bn2 is not None:\n",
        "            out = self.bn2(out)\n",
        "\n",
        "        if self.downsample is not None:\n",
        "            residual = self.downsample(x)\n",
        "\n",
        "        out += residual\n",
        "        out = self.relu(out)\n",
        "\n",
        "        return out\n",
        "\n",
        "\n",
        "# BasicBlock }}}\n",
        "\n",
        "# Bottleneck {{{\n",
        "class Bottleneck(nn.Module):\n",
        "    M = 3\n",
        "    expansion = 4\n",
        "\n",
        "    def __init__(self, builder, inplanes, planes, stride=1, downsample=None, base_width=64):\n",
        "        super(Bottleneck, self).__init__()\n",
        "        width = int(planes * base_width / 64)\n",
        "        self.conv1 = builder.conv1x1(inplanes, width)\n",
        "        self.bn1 = builder.batchnorm(width)\n",
        "        self.conv2 = builder.conv3x3(width, width, stride=stride)\n",
        "        self.bn2 = builder.batchnorm(width)\n",
        "        self.conv3 = builder.conv1x1(width, planes * self.expansion)\n",
        "        self.bn3 = builder.batchnorm(planes * self.expansion, last_bn=True)\n",
        "        self.relu = builder.activation()\n",
        "        self.downsample = downsample\n",
        "        self.stride = stride\n",
        "\n",
        "    def forward(self, x):\n",
        "        residual = x\n",
        "\n",
        "        out = self.conv1(x)\n",
        "        out = self.bn1(out)\n",
        "        out = self.relu(out)\n",
        "\n",
        "        out = self.conv2(out)\n",
        "        out = self.bn2(out)\n",
        "        out = self.relu(out)\n",
        "\n",
        "        out = self.conv3(out)\n",
        "        out = self.bn3(out)\n",
        "\n",
        "        if self.downsample is not None:\n",
        "            residual = self.downsample(x)\n",
        "\n",
        "        out += residual\n",
        "\n",
        "        out = self.relu(out)\n",
        "\n",
        "        return out\n",
        "\n",
        "\n",
        "# Bottleneck }}}\n",
        "\n",
        "# ResNet {{{\n",
        "class ResNet(nn.Module):\n",
        "    def __init__(self, builder, block, layers, num_classes=1000, base_width=64):\n",
        "        self.inplanes = 64\n",
        "        super(ResNet, self).__init__()\n",
        "\n",
        "        self.base_width = base_width\n",
        "        if self.base_width // 64 > 1:\n",
        "            print(f\"==> Using {self.base_width // 64}x wide model\")\n",
        "\n",
        "        if args.first_layer_dense:\n",
        "            self.conv1 = nn.Conv2d(\n",
        "                3, self.inplanes, kernel_size=7, stride=2, padding=3, bias=False\n",
        "            )\n",
        "        else:\n",
        "            self.conv1 = builder.conv7x7(3, 64, stride=2, first_layer=True)\n",
        "\n",
        "        self.bn1 = builder.batchnorm(64)\n",
        "        self.relu = builder.activation()\n",
        "        self.maxpool = nn.MaxPool2d(kernel_size=3, stride=2, padding=1)\n",
        "        self.layer1 = self._make_layer(builder, block, 64, layers[0])\n",
        "        self.layer2 = self._make_layer(builder, block, 128, layers[1], stride=2)\n",
        "        self.layer3 = self._make_layer(builder, block, 256, layers[2], stride=2)\n",
        "        self.layer4 = self._make_layer(builder, block, 512, layers[3], stride=2)\n",
        "        self.avgpool = nn.AdaptiveAvgPool2d(1)\n",
        "\n",
        "        # self.fc = nn.Linear(512 * block.expansion, num_classes)\n",
        "        if args.last_layer_dense:\n",
        "            self.fc = nn.Conv2d(512 * block.expansion, args.num_classes, 1)\n",
        "        else:\n",
        "            self.fc = builder.conv1x1(512 * block.expansion, num_classes)\n",
        "\n",
        "    def _make_layer(self, builder, block, planes, blocks, stride=1):\n",
        "        downsample = None\n",
        "        if stride != 1 or self.inplanes != planes * block.expansion:\n",
        "            dconv = builder.conv1x1(\n",
        "                self.inplanes, planes * block.expansion, stride=stride\n",
        "            )\n",
        "            dbn = builder.batchnorm(planes * block.expansion)\n",
        "            if dbn is not None:\n",
        "                downsample = nn.Sequential(dconv, dbn)\n",
        "            else:\n",
        "                downsample = dconv\n",
        "\n",
        "        layers = []\n",
        "        layers.append(block(builder, self.inplanes, planes, stride, downsample, base_width=self.base_width))\n",
        "        self.inplanes = planes * block.expansion\n",
        "        for i in range(1, blocks):\n",
        "            layers.append(block(builder, self.inplanes, planes, base_width=self.base_width))\n",
        "\n",
        "        return nn.Sequential(*layers)\n",
        "\n",
        "    def forward(self, x):\n",
        "        x = self.conv1(x)\n",
        "\n",
        "        if self.bn1 is not None:\n",
        "            x = self.bn1(x)\n",
        "        x = self.relu(x)\n",
        "        x = self.maxpool(x)\n",
        "\n",
        "        x = self.layer1(x)\n",
        "        x = self.layer2(x)\n",
        "        x = self.layer3(x)\n",
        "        x = self.layer4(x)\n",
        "\n",
        "        x = self.avgpool(x)\n",
        "        x = self.fc(x)\n",
        "        x = x.view(x.size(0), -1)\n",
        "\n",
        "        return x\n",
        "\n",
        "\n",
        "# ResNet }}}"
      ],
      "execution_count": 0,
      "outputs": []
    },
    {
      "cell_type": "code",
      "metadata": {
        "id": "9CsqwEnf76xe",
        "colab_type": "code",
        "colab": {}
      },
      "source": [
        "def ResNet18(pretrained=False):\n",
        "    return ResNet(get_builder(), BasicBlock, [2, 2, 2, 2], 1000)\n",
        "\n",
        "\n",
        "def ResNet50(pretrained=False):\n",
        "    return ResNet(get_builder(), Bottleneck, [3, 4, 6, 3], 1000)"
      ],
      "execution_count": 0,
      "outputs": []
    },
    {
      "cell_type": "code",
      "metadata": {
        "id": "o9jsoYQ60se0",
        "colab_type": "code",
        "colab": {}
      },
      "source": [
        "def freeze_model_weights(model):\n",
        "    print(\"=> Freezing model weights\")\n",
        "\n",
        "    for n, m in model.named_modules():\n",
        "        if hasattr(m, \"weight\") and m.weight is not None:\n",
        "            print(f\"==> No gradient to {n}.weight\")\n",
        "            m.weight.requires_grad = False\n",
        "            if m.weight.grad is not None:\n",
        "                print(f\"==> Setting gradient of {n}.weight to None\")\n",
        "                m.weight.grad = None\n",
        "\n",
        "            if hasattr(m, \"bias\") and m.bias is not None:\n",
        "                print(f\"==> No gradient to {n}.bias\")\n",
        "                m.bias.requires_grad = False\n",
        "\n",
        "                if m.bias.grad is not None:\n",
        "                    print(f\"==> Setting gradient of {n}.bias to None\")\n",
        "                    m.bias.grad = None\n",
        "\n",
        "\n",
        "def freeze_model_subnet(model):\n",
        "    print(\"=> Freezing model subnet\")\n",
        "\n",
        "    for n, m in model.named_modules():\n",
        "        if hasattr(m, \"scores\"):\n",
        "            m.scores.requires_grad = False\n",
        "            print(f\"==> No gradient to {n}.scores\")\n",
        "            if m.scores.grad is not None:\n",
        "                print(f\"==> Setting gradient of {n}.scores to None\")\n",
        "                m.scores.grad = None\n",
        "\n",
        "\n",
        "def unfreeze_model_weights(model):\n",
        "    print(\"=> Unfreezing model weights\")\n",
        "\n",
        "    for n, m in model.named_modules():\n",
        "        if hasattr(m, \"weight\") and m.weight is not None:\n",
        "            print(f\"==> Gradient to {n}.weight\")\n",
        "            m.weight.requires_grad = True\n",
        "            if hasattr(m, \"bias\") and m.bias is not None:\n",
        "                print(f\"==> Gradient to {n}.bias\")\n",
        "                m.bias.requires_grad = True\n",
        "\n",
        "\n",
        "def unfreeze_model_subnet(model):\n",
        "    print(\"=> Unfreezing model subnet\")\n",
        "\n",
        "    for n, m in model.named_modules():\n",
        "        if hasattr(m, \"scores\"):\n",
        "            print(f\"==> Gradient to {n}.scores\")\n",
        "            m.scores.requires_grad = True\n"
      ],
      "execution_count": 0,
      "outputs": []
    },
    {
      "cell_type": "code",
      "metadata": {
        "id": "IZHI3v90BMDO",
        "colab_type": "code",
        "colab": {}
      },
      "source": [
        "# Default args\n",
        "# Some temporary are redundant\n",
        "args = {\n",
        "    'data': '/mnt/disk1/datasets',\n",
        "    'optimizer': 'sgd',\n",
        "    'set': 'ImageNet',\n",
        "    'arch': 'ResNet18',\n",
        "    'log-dir': None,\n",
        "    'workers': 20,\n",
        "    'epochs': 90,\n",
        "    'start-epoch': None,\n",
        "    'batch-size': 256,\n",
        "    'learning-rate': 0.1,\n",
        "    'warmup_length': 0,\n",
        "    'weight-decay': 1e-4,\n",
        "    'print-freq': 10,\n",
        "    'num_classes': 200,\n",
        "    'resume': '',\n",
        "    'pretrainde': None,\n",
        "    'seed': None,\n",
        "    'multigpu': None,\n",
        "    'lr-policy': 'constant_lr',\n",
        "    'multistep-lr-adjust': 30,\n",
        "    'multistep-lr-gamma': 0.1,\n",
        "    'name': None,\n",
        "    'prune-rate': 0.0,\n",
        "    'low-data': 1,\n",
        "    'nesterov': False,\n",
        "    'conv_type': None,\n",
        "    'conv-type': None,\n",
        "    'mode': 'fan_in',\n",
        "    'nonlinearity': 'relu',\n",
        "    'bn-type': None,\n",
        "    'init': 'kaiming_normal',\n",
        "    'no-bn-decay': False,\n",
        "    'scale-fan': False,\n",
        "    'label-smoothing': None,\n",
        "    'first-layer-type': None,\n",
        "    'trainer': 'default',\n",
        "    'score-init-constant': None,\n",
        "    'bn_type': NonAffineBatchNorm,\n",
        "    'conv_type': SubnetConv,\n",
        "    'freeze_weights': True,\n",
        "    'first_layer_type': None,\n",
        "    'first_layer_dense': None,\n",
        "    'scale_fan': None,\n",
        "    'last_layer_dense': True,\n",
        "    \n",
        "}\n",
        "\n",
        "args = SimpleNamespace(**args)"
      ],
      "execution_count": 0,
      "outputs": []
    },
    {
      "cell_type": "code",
      "metadata": {
        "id": "IKHxPPHXH-G-",
        "colab_type": "code",
        "colab": {}
      },
      "source": [
        "use_cuda = torch.cuda.is_available()\n",
        "device = torch.device(\"cuda\" if use_cuda else \"cpu\")"
      ],
      "execution_count": 0,
      "outputs": []
    },
    {
      "cell_type": "code",
      "metadata": {
        "id": "SYSBBfEcQvk2",
        "colab_type": "code",
        "colab": {}
      },
      "source": [
        "class Denormalize(object):\n",
        "    def __init__(self, mean, std, inplace=False):\n",
        "        self.mean = mean\n",
        "        self.demean = [-m/s for m, s in zip(mean, std)]\n",
        "        self.std = std\n",
        "        self.destd = [1/s for s in std]\n",
        "        self.inplace = inplace\n",
        "\n",
        "    def __call__(self, tensor):\n",
        "        tensor = TF.normalize(tensor, self.demean, self.destd, self.inplace)\n",
        "        # clamp to get rid of numerical errors\n",
        "        return torch.clamp(tensor, 0.0, 1.0)"
      ],
      "execution_count": 0,
      "outputs": []
    },
    {
      "cell_type": "code",
      "metadata": {
        "id": "GLucfMQ2Qvno",
        "colab_type": "code",
        "colab": {}
      },
      "source": [
        "def show_batch(dataloader):\n",
        "    fig, ax = plt.subplots(1, dataloader.batch_size, sharex=True, sharey=True, figsize=(20, 10))\n",
        "    img_batch, label = iter(dataloader).next()\n",
        "    \n",
        "    denormalize = Denormalize(mean=(0.485, 0.456, 0.406), std=(0.229, 0.224, 0.225))  \n",
        "    \n",
        "    print(label.numpy())\n",
        "    for i in range(dataloader.batch_size):                                \n",
        "        ax[i].imshow(transforms.ToPILImage()(denormalize(img_batch[i, :, :, :])))"
      ],
      "execution_count": 0,
      "outputs": []
    },
    {
      "cell_type": "code",
      "metadata": {
        "id": "7VHlDhAuRBwb",
        "colab_type": "code",
        "outputId": "949cc020-771f-433d-cd2d-17dc961400f5",
        "colab": {
          "base_uri": "https://localhost:8080/",
          "height": 117
        }
      },
      "source": [
        "show_batch(tiny_imagenet_train_dataloader)"
      ],
      "execution_count": 25,
      "outputs": [
        {
          "output_type": "stream",
          "text": [
            "[113  84 123 123 126 198  46  23 144  30   2 187 164 138 197 126  95  10\n",
            " 148  74 109 151 154  72 120  17   0  79 137 108  90 134]\n"
          ],
          "name": "stdout"
        },
        {
          "output_type": "display_data",
          "data": {
            "image/png": "[encoded data removed]",
            "text/plain": [
              "<Figure size 1440x720 with 32 Axes>"
            ]
          },
          "metadata": {
            "tags": []
          }
        }
      ]
    },
    {
      "cell_type": "code",
      "metadata": {
        "id": "xEj7Qn1-H-Es",
        "colab_type": "code",
        "colab": {}
      },
      "source": [
        "def train(model, device, train_loader, optimizer, criterion, epoch, verbose=False):\n",
        "    train_loss = 0\n",
        "\n",
        "    model.train()\n",
        "    for batch_idx, (data, target) in enumerate(train_loader):\n",
        "        data, target = data.to(device), target.to(device)\n",
        "        optimizer.zero_grad()\n",
        "\n",
        "        output = model(data)\n",
        "        loss = criterion(output, target)\n",
        "        loss.backward()\n",
        "        optimizer.step()\n",
        "\n",
        "        train_loss += loss\n",
        "\n",
        "        if verbose:\n",
        "          if batch_idx % 100 == 0:\n",
        "              print('Train Epoch: {} [{}/{} ({:.0f}%)]\\tLoss: {:.6f}'.format(\n",
        "                  epoch, batch_idx * len(data), len(train_loader.dataset),\n",
        "                  100. * batch_idx / len(train_loader), loss.item()))\n",
        "              \n",
        "    return train_loss / len(train_loader.dataset)\n",
        "\n",
        "\n",
        "def test(model, device, criterion, test_loader):\n",
        "    true_labels = []\n",
        "    predictions = [] # labels\n",
        "    outputs = [] # probabilities\n",
        "\n",
        "    model.eval()\n",
        "    test_loss = 0\n",
        "    # correct = 0\n",
        "    with torch.no_grad():\n",
        "        for data, target in test_loader:\n",
        "            data, target = data.to(device), target.to(device)\n",
        "\n",
        "            output = model(data)\n",
        "            test_loss += criterion(output, target)\n",
        "            outputs.append(output.detach().cpu().numpy())\n",
        "            pred = output.argmax(dim=1, keepdim=True)\n",
        "\n",
        "            predictions.extend(pred)\n",
        "            true_labels.extend(target.detach().cpu().numpy())\n",
        "            # correct += pred.eq(target.view_as(pred)).sum().item()\n",
        "\n",
        "    predictions = np.array(predictions)\n",
        "    true_labels = np.array(true_labels)\n",
        "    outputs = np.array(outputs)\n",
        "\n",
        "    test_loss /= len(test_loader.dataset)\n",
        "    test_accuracy = np.sum(np.equal(predictions, true_labels)) / len(true_labels)\n",
        "    \n",
        "    # print('\\nTest set: Average loss: {:.4f}, Accuracy: {}/{} ({:.0f}%)\\n'.format(\n",
        "        # test_loss, correct, len(test_loader.dataset),\n",
        "        # 100. * correct / len(test_loader.dataset)))\n",
        "    \n",
        "    return test_loss.item(), test_accuracy"
      ],
      "execution_count": 0,
      "outputs": []
    },
    {
      "cell_type": "code",
      "metadata": {
        "id": "yXrsXrGg3B33",
        "colab_type": "code",
        "colab": {
          "base_uri": "https://localhost:8080/",
          "height": 72
        },
        "outputId": "980dc25e-faab-4fad-a7df-64b739e867e4"
      },
      "source": [
        "model = ResNet18().to(device)\n",
        "optimizer = optim.Adam(\n",
        "      [p for p in model.parameters() if p.requires_grad],\n",
        "      lr=5e-3,\n",
        "      weight_decay=0.0005,\n",
        "  )\n",
        "criterion = nn.CrossEntropyLoss().to(device)\n",
        "# scheduler = torch.optim.lr_scheduler.ReduceLROnPlateau(optimizer, factor=0.3, patience=2, verbose=True, min_lr=1e-5)\n",
        "scheduler = CosineAnnealingLR(optimizer, T_max=40)"
      ],
      "execution_count": 27,
      "outputs": [
        {
          "output_type": "stream",
          "text": [
            "==> Conv Type: <class '__main__.SubnetConv'>\n",
            "==> BN Type: <class '__main__.NonAffineBatchNorm'>\n",
            "==> Building first layer with <class '__main__.SubnetConv'>\n"
          ],
          "name": "stdout"
        }
      ]
    },
    {
      "cell_type": "code",
      "metadata": {
        "id": "KaQqAf3V3B64",
        "colab_type": "code",
        "colab": {}
      },
      "source": [
        ""
      ],
      "execution_count": 0,
      "outputs": []
    },
    {
      "cell_type": "code",
      "metadata": {
        "id": "PDO5ADm_1KZ8",
        "colab_type": "code",
        "colab": {}
      },
      "source": [
        "%%time\n",
        "\n",
        "train_losses = []\n",
        "test_losses = []\n",
        "test_acc = []\n",
        "\n",
        "for epoch in tqdm(range(30)):\n",
        "    train_loss = train(model, device, tiny_imagenet_train_dataloader, optimizer, criterion, epoch, verbose=False)\n",
        "    test_loss, test_accuracy = test(model, device, criterion, tiny_imagenet_test_dataloader)\n",
        "    scheduler.step()\n",
        "\n",
        "    train_losses.append(train_loss)\n",
        "    test_losses.append(test_loss)\n",
        "    test_acc.append(test_accuracy)"
      ],
      "execution_count": 0,
      "outputs": []
    },
    {
      "cell_type": "code",
      "metadata": {
        "id": "4zManRtggs4Q",
        "colab_type": "code",
        "colab": {}
      },
      "source": [
        "fig, ax = plt.subplots(1, 2, figsize=(12, 8))\n",
        "\n",
        "ax[0].plot(range(len(train_losses)), train_losses, label='Train loss')\n",
        "ax[0].plot(range(len(train_losses)), test_losses, label='Test loss')\n",
        "ax[0].set_title('Losses')\n",
        "ax[0].legend()\n",
        "\n",
        "ax[1].plot(range(len(train_losses)), test_acc)\n",
        "ax[1].set_title('Accuracy (on test)')\n",
        "\n",
        "plt.show()\n",
        "\n",
        "print('Test loss: ', test_losses[-1])\n",
        "print('Train accuracy: ', test_acc[-1])"
      ],
      "execution_count": 0,
      "outputs": []
    },
    {
      "cell_type": "code",
      "metadata": {
        "id": "U9uu79Ohgs9i",
        "colab_type": "code",
        "colab": {}
      },
      "source": [
        ""
      ],
      "execution_count": 0,
      "outputs": []
    },
    {
      "cell_type": "code",
      "metadata": {
        "id": "Le53IhgggtAv",
        "colab_type": "code",
        "colab": {}
      },
      "source": [
        ""
      ],
      "execution_count": 0,
      "outputs": []
    },
    {
      "cell_type": "code",
      "metadata": {
        "id": "mOs5d2E8gs7K",
        "colab_type": "code",
        "colab": {}
      },
      "source": [
        ""
      ],
      "execution_count": 0,
      "outputs": []
    },
    {
      "cell_type": "code",
      "metadata": {
        "id": "NWWHClt02iEt",
        "colab_type": "code",
        "colab": {}
      },
      "source": [
        ""
      ],
      "execution_count": 0,
      "outputs": []
    },
    {
      "cell_type": "code",
      "metadata": {
        "id": "6Me2BJnh2iHu",
        "colab_type": "code",
        "colab": {}
      },
      "source": [
        ""
      ],
      "execution_count": 0,
      "outputs": []
    }
  ]
}