{
  "nbformat": 4,
  "nbformat_minor": 0,
  "metadata": {
    "colab": {
      "name": "mnist.ipynb",
      "provenance": [],
      "authorship_tag": "ABX9TyMKFgF8HLsntatvqykeyMSv",
      "include_colab_link": true
    },
    "kernelspec": {
      "name": "python3",
      "display_name": "Python 3"
    },
    "accelerator": "GPU"
  },
  "cells": [
    {
      "cell_type": "markdown",
      "metadata": {
        "id": "view-in-github",
        "colab_type": "text"
      },
      "source": [
        "<a href=\"https://colab.research.google.com/github/NesterukSergey/hidden-networks/blob/master/mnist.ipynb\" target=\"_parent\"><img src=\"https://colab.research.google.com/assets/colab-badge.svg\" alt=\"Open In Colab\"/></a>"
      ]
    },
    {
      "cell_type": "code",
      "metadata": {
        "id": "5xmOhgVIHOwh",
        "colab_type": "code",
        "colab": {}
      },
      "source": [
        "from __future__ import print_function\n",
        "import argparse\n",
        "import os\n",
        "import math\n",
        "\n",
        "import torch\n",
        "import torch.nn as nn\n",
        "import torch.nn.functional as F\n",
        "import torch.optim as optim\n",
        "from torchvision import datasets, transforms\n",
        "from torch.optim.lr_scheduler import CosineAnnealingLR\n",
        "import torch.autograd as autograd\n",
        "\n",
        "from tqdm import tqdm"
      ],
      "execution_count": 0,
      "outputs": []
    },
    {
      "cell_type": "code",
      "metadata": {
        "id": "BBkV-s-bQPqJ",
        "colab_type": "code",
        "colab": {}
      },
      "source": [
        "class GetSubnet(autograd.Function):\n",
        "    @staticmethod\n",
        "    def forward(ctx, scores, k):\n",
        "        # Get the supermask by sorting the scores and using the top k%\n",
        "        out = scores.clone()\n",
        "        _, idx = scores.flatten().sort()\n",
        "        j = int((1 - k) * scores.numel())\n",
        "\n",
        "        # flat_out and out access the same memory.\n",
        "        flat_out = out.flatten()\n",
        "        flat_out[idx[:j]] = 0\n",
        "        flat_out[idx[j:]] = 1\n",
        "\n",
        "        return out\n",
        "\n",
        "    @staticmethod\n",
        "    def backward(ctx, g):\n",
        "        # send the gradient g straight-through on the backward pass.\n",
        "        return g, None\n",
        "\n",
        "\n",
        "class SupermaskConv(nn.Conv2d):\n",
        "    def __init__(self, *args, **kwargs):\n",
        "        super().__init__(*args, **kwargs)\n",
        "\n",
        "        # initialize the scores\n",
        "        self.scores = nn.Parameter(torch.Tensor(self.weight.size()))\n",
        "        nn.init.kaiming_uniform_(self.scores, a=math.sqrt(5))\n",
        "\n",
        "        # NOTE: initialize the weights like this.\n",
        "        nn.init.kaiming_normal_(self.weight, mode=\"fan_in\", nonlinearity=\"relu\")\n",
        "\n",
        "        # NOTE: turn the gradient on the weights off\n",
        "        self.weight.requires_grad = False\n",
        "\n",
        "    def forward(self, x):\n",
        "        subnet = GetSubnet.apply(self.scores.abs(), 0.5)\n",
        "        w = self.weight * subnet\n",
        "        x = F.conv2d(\n",
        "            x, w, self.bias, self.stride, self.padding, self.dilation, self.groups\n",
        "        )\n",
        "        return x\n",
        "\n",
        "class SupermaskLinear(nn.Linear):\n",
        "    def __init__(self, *args, **kwargs):\n",
        "        super().__init__(*args, **kwargs)\n",
        "\n",
        "        # initialize the scores\n",
        "        self.scores = nn.Parameter(torch.Tensor(self.weight.size()))\n",
        "        nn.init.kaiming_uniform_(self.scores, a=math.sqrt(5))\n",
        "\n",
        "        # NOTE: initialize the weights like this.\n",
        "        nn.init.kaiming_normal_(self.weight, mode=\"fan_in\", nonlinearity=\"relu\")\n",
        "\n",
        "        # NOTE: turn the gradient on the weights off\n",
        "        self.weight.requires_grad = False\n",
        "\n",
        "    def forward(self, x):\n",
        "        subnet = GetSubnet.apply(self.scores.abs(), 0.5)\n",
        "        w = self.weight * subnet\n",
        "        return F.linear(x, w, self.bias)\n",
        "        return x\n",
        "\n",
        "# NOTE: not used here but we use NON-AFFINE Normalization!\n",
        "# So there is no learned parameters for your nomralization layer.\n",
        "class NonAffineBatchNorm(nn.BatchNorm2d):\n",
        "    def __init__(self, dim):\n",
        "        super(NonAffineBatchNorm, self).__init__(dim, affine=False)"
      ],
      "execution_count": 0,
      "outputs": []
    },
    {
      "cell_type": "code",
      "metadata": {
        "id": "v1Bbsd8pQPu_",
        "colab_type": "code",
        "colab": {}
      },
      "source": [
        "class Net(nn.Module):\n",
        "    def __init__(self):\n",
        "        super(Net, self).__init__()\n",
        "        self.conv1 = SupermaskConv(1, 32, 3, 1, bias=False)\n",
        "        self.conv2 = SupermaskConv(32, 64, 3, 1, bias=False)\n",
        "        self.dropout1 = nn.Dropout2d(0.25)\n",
        "        self.dropout2 = nn.Dropout2d(0.5)\n",
        "        self.fc1 = SupermaskLinear(9216, 128, bias=False)\n",
        "        self.fc2 = SupermaskLinear(128, 10, bias=False)\n",
        "\n",
        "    def forward(self, x):\n",
        "        x = self.conv1(x)\n",
        "        x = F.relu(x)\n",
        "        x = self.conv2(x)\n",
        "        x = F.max_pool2d(x, 2)\n",
        "        x = self.dropout1(x)\n",
        "        x = torch.flatten(x, 1)\n",
        "        x = self.fc1(x)\n",
        "        x = F.relu(x)\n",
        "        x = self.dropout2(x)\n",
        "        x = self.fc2(x)\n",
        "        output = F.log_softmax(x, dim=1)\n",
        "        return output"
      ],
      "execution_count": 0,
      "outputs": []
    },
    {
      "cell_type": "code",
      "metadata": {
        "id": "xEj7Qn1-H-Es",
        "colab_type": "code",
        "colab": {}
      },
      "source": [
        "def train(model, device, train_loader, optimizer, criterion, epoch):\n",
        "    model.train()\n",
        "    for batch_idx, (data, target) in tqdm(enumerate(train_loader)):\n",
        "        data, target = data.to(device), target.to(device)\n",
        "        optimizer.zero_grad()\n",
        "        output = model(data)\n",
        "        loss = criterion(output, target)\n",
        "        loss.backward()\n",
        "        optimizer.step()\n",
        "        if batch_idx % 1000 == 0:\n",
        "            print('Train Epoch: {} [{}/{} ({:.0f}%)]\\tLoss: {:.6f}'.format(\n",
        "                epoch, batch_idx * len(data), len(train_loader.dataset),\n",
        "                100. * batch_idx / len(train_loader), loss.item()))\n",
        "\n",
        "\n",
        "def test(model, device, criterion, test_loader):\n",
        "    model.eval()\n",
        "    test_loss = 0\n",
        "    correct = 0\n",
        "    with torch.no_grad():\n",
        "        for data, target in test_loader:\n",
        "            data, target = data.to(device), target.to(device)\n",
        "            output = model(data)\n",
        "            test_loss += criterion(output, target)\n",
        "            pred = output.argmax(dim=1, keepdim=True)  # get the index of the max log-probability\n",
        "            correct += pred.eq(target.view_as(pred)).sum().item()\n",
        "\n",
        "    test_loss /= len(test_loader.dataset)\n",
        "\n",
        "    print('\\nTest set: Average loss: {:.4f}, Accuracy: {}/{} ({:.0f}%)\\n'.format(\n",
        "        test_loss, correct, len(test_loader.dataset),\n",
        "        100. * correct / len(test_loader.dataset)))"
      ],
      "execution_count": 0,
      "outputs": []
    },
    {
      "cell_type": "code",
      "metadata": {
        "id": "IKHxPPHXH-G-",
        "colab_type": "code",
        "colab": {}
      },
      "source": [
        "use_cuda = torch.cuda.is_available()\n",
        "device = torch.device(\"cuda\" if use_cuda else \"cpu\")"
      ],
      "execution_count": 0,
      "outputs": []
    },
    {
      "cell_type": "code",
      "metadata": {
        "id": "KRVo-pGyH-Jb",
        "colab_type": "code",
        "colab": {}
      },
      "source": [
        "kwargs = {}\n",
        "data = '../data'\n",
        "batch_size = 8\n",
        "test_batch_size = 8\n",
        "\n",
        "train_loader = torch.utils.data.DataLoader(\n",
        "    datasets.MNIST(os.path.join(data, 'mnist'), train=True, download=True,\n",
        "                   transform=transforms.Compose([\n",
        "                       transforms.ToTensor(),\n",
        "                       transforms.Normalize((0.1307,), (0.3081,))\n",
        "                   ])),\n",
        "    batch_size=batch_size, shuffle=True, **kwargs)\n",
        "test_loader = torch.utils.data.DataLoader(\n",
        "    datasets.MNIST(os.path.join(data, 'mnist'), train=False, transform=transforms.Compose([\n",
        "                       transforms.ToTensor(),\n",
        "                       transforms.Normalize((0.1307,), (0.3081,))\n",
        "                   ])),\n",
        "    batch_size=test_batch_size, shuffle=True, **kwargs)\n",
        "\n",
        "model = Net().to(device)\n",
        "# NOTE: only pass the parameters where p.requires_grad == True to the optimizer! Important!\n",
        "optimizer = optim.SGD(\n",
        "    [p for p in model.parameters() if p.requires_grad],\n",
        "    lr=0.1,\n",
        "    momentum=0.9,\n",
        "    weight_decay=0.0005,\n",
        ")\n",
        "criterion = nn.CrossEntropyLoss().to(device)\n",
        "scheduler = CosineAnnealingLR(optimizer, T_max=14)"
      ],
      "execution_count": 0,
      "outputs": []
    },
    {
      "cell_type": "code",
      "metadata": {
        "id": "19SLowpjH-Lv",
        "colab_type": "code",
        "colab": {
          "base_uri": "https://localhost:8080/",
          "height": 1000
        },
        "outputId": "bd2fcbbd-78da-4b6a-86bc-d8059f015da7"
      },
      "source": [
        "for epoch in range(1, 14 + 1):\n",
        "    train(model, device, train_loader, optimizer, criterion, epoch)\n",
        "    test(model, device, criterion, test_loader)\n",
        "    scheduler.step()"
      ],
      "execution_count": 14,
      "outputs": [
        {
          "output_type": "stream",
          "text": [
            "16it [00:00, 74.08it/s]"
          ],
          "name": "stderr"
        },
        {
          "output_type": "stream",
          "text": [
            "Train Epoch: 1 [0/60000 (0%)]\tLoss: 2.883347\n"
          ],
          "name": "stdout"
        },
        {
          "output_type": "stream",
          "text": [
            "1013it [00:08, 114.78it/s]"
          ],
          "name": "stderr"
        },
        {
          "output_type": "stream",
          "text": [
            "Train Epoch: 1 [8000/60000 (13%)]\tLoss: 0.723657\n"
          ],
          "name": "stdout"
        },
        {
          "output_type": "stream",
          "text": [
            "2017it [00:17, 123.20it/s]"
          ],
          "name": "stderr"
        },
        {
          "output_type": "stream",
          "text": [
            "Train Epoch: 1 [16000/60000 (27%)]\tLoss: 0.631280\n"
          ],
          "name": "stdout"
        },
        {
          "output_type": "stream",
          "text": [
            "3015it [00:25, 121.47it/s]"
          ],
          "name": "stderr"
        },
        {
          "output_type": "stream",
          "text": [
            "Train Epoch: 1 [24000/60000 (40%)]\tLoss: 0.396601\n"
          ],
          "name": "stdout"
        },
        {
          "output_type": "stream",
          "text": [
            "4021it [00:34, 120.04it/s]"
          ],
          "name": "stderr"
        },
        {
          "output_type": "stream",
          "text": [
            "Train Epoch: 1 [32000/60000 (53%)]\tLoss: 1.459355\n"
          ],
          "name": "stdout"
        },
        {
          "output_type": "stream",
          "text": [
            "5026it [00:42, 123.71it/s]"
          ],
          "name": "stderr"
        },
        {
          "output_type": "stream",
          "text": [
            "Train Epoch: 1 [40000/60000 (67%)]\tLoss: 0.787171\n"
          ],
          "name": "stdout"
        },
        {
          "output_type": "stream",
          "text": [
            "6021it [00:51, 118.43it/s]"
          ],
          "name": "stderr"
        },
        {
          "output_type": "stream",
          "text": [
            "Train Epoch: 1 [48000/60000 (80%)]\tLoss: 0.646586\n"
          ],
          "name": "stdout"
        },
        {
          "output_type": "stream",
          "text": [
            "7012it [00:59, 112.87it/s]"
          ],
          "name": "stderr"
        },
        {
          "output_type": "stream",
          "text": [
            "Train Epoch: 1 [56000/60000 (93%)]\tLoss: 1.320564\n"
          ],
          "name": "stdout"
        },
        {
          "output_type": "stream",
          "text": [
            "7500it [01:03, 117.75it/s]\n",
            "11it [00:00, 107.42it/s]"
          ],
          "name": "stderr"
        },
        {
          "output_type": "stream",
          "text": [
            "\n",
            "Test set: Average loss: 0.0442, Accuracy: 8725/10000 (87%)\n",
            "\n",
            "Train Epoch: 2 [0/60000 (0%)]\tLoss: 0.306500\n"
          ],
          "name": "stdout"
        },
        {
          "output_type": "stream",
          "text": [
            "1024it [00:08, 121.47it/s]"
          ],
          "name": "stderr"
        },
        {
          "output_type": "stream",
          "text": [
            "Train Epoch: 2 [8000/60000 (13%)]\tLoss: 0.859873\n"
          ],
          "name": "stdout"
        },
        {
          "output_type": "stream",
          "text": [
            "2021it [00:17, 113.39it/s]"
          ],
          "name": "stderr"
        },
        {
          "output_type": "stream",
          "text": [
            "Train Epoch: 2 [16000/60000 (27%)]\tLoss: 0.030350\n"
          ],
          "name": "stdout"
        },
        {
          "output_type": "stream",
          "text": [
            "3022it [00:25, 114.67it/s]"
          ],
          "name": "stderr"
        },
        {
          "output_type": "stream",
          "text": [
            "Train Epoch: 2 [24000/60000 (40%)]\tLoss: 0.411071\n"
          ],
          "name": "stdout"
        },
        {
          "output_type": "stream",
          "text": [
            "4013it [00:34, 113.93it/s]"
          ],
          "name": "stderr"
        },
        {
          "output_type": "stream",
          "text": [
            "Train Epoch: 2 [32000/60000 (53%)]\tLoss: 1.316737\n"
          ],
          "name": "stdout"
        },
        {
          "output_type": "stream",
          "text": [
            "5013it [00:42, 122.55it/s]"
          ],
          "name": "stderr"
        },
        {
          "output_type": "stream",
          "text": [
            "Train Epoch: 2 [40000/60000 (67%)]\tLoss: 1.447599\n"
          ],
          "name": "stdout"
        },
        {
          "output_type": "stream",
          "text": [
            "6016it [00:51, 118.23it/s]"
          ],
          "name": "stderr"
        },
        {
          "output_type": "stream",
          "text": [
            "Train Epoch: 2 [48000/60000 (80%)]\tLoss: 0.740158\n"
          ],
          "name": "stdout"
        },
        {
          "output_type": "stream",
          "text": [
            "7017it [01:00, 116.22it/s]"
          ],
          "name": "stderr"
        },
        {
          "output_type": "stream",
          "text": [
            "Train Epoch: 2 [56000/60000 (93%)]\tLoss: 0.116787\n"
          ],
          "name": "stdout"
        },
        {
          "output_type": "stream",
          "text": [
            "7500it [01:04, 116.72it/s]\n",
            "12it [00:00, 119.83it/s]"
          ],
          "name": "stderr"
        },
        {
          "output_type": "stream",
          "text": [
            "\n",
            "Test set: Average loss: 0.0432, Accuracy: 8866/10000 (89%)\n",
            "\n",
            "Train Epoch: 3 [0/60000 (0%)]\tLoss: 1.121386\n"
          ],
          "name": "stdout"
        },
        {
          "output_type": "stream",
          "text": [
            "1020it [00:08, 115.55it/s]"
          ],
          "name": "stderr"
        },
        {
          "output_type": "stream",
          "text": [
            "Train Epoch: 3 [8000/60000 (13%)]\tLoss: 1.129284\n"
          ],
          "name": "stdout"
        },
        {
          "output_type": "stream",
          "text": [
            "2023it [00:17, 112.77it/s]"
          ],
          "name": "stderr"
        },
        {
          "output_type": "stream",
          "text": [
            "Train Epoch: 3 [16000/60000 (27%)]\tLoss: 0.073808\n"
          ],
          "name": "stdout"
        },
        {
          "output_type": "stream",
          "text": [
            "3015it [00:26, 114.92it/s]"
          ],
          "name": "stderr"
        },
        {
          "output_type": "stream",
          "text": [
            "Train Epoch: 3 [24000/60000 (40%)]\tLoss: 0.217537\n"
          ],
          "name": "stdout"
        },
        {
          "output_type": "stream",
          "text": [
            "4023it [00:34, 117.73it/s]"
          ],
          "name": "stderr"
        },
        {
          "output_type": "stream",
          "text": [
            "Train Epoch: 3 [32000/60000 (53%)]\tLoss: 0.307409\n"
          ],
          "name": "stdout"
        },
        {
          "output_type": "stream",
          "text": [
            "5018it [00:43, 113.48it/s]"
          ],
          "name": "stderr"
        },
        {
          "output_type": "stream",
          "text": [
            "Train Epoch: 3 [40000/60000 (67%)]\tLoss: 0.136530\n"
          ],
          "name": "stdout"
        },
        {
          "output_type": "stream",
          "text": [
            "6012it [00:51, 111.76it/s]"
          ],
          "name": "stderr"
        },
        {
          "output_type": "stream",
          "text": [
            "Train Epoch: 3 [48000/60000 (80%)]\tLoss: 0.492481\n"
          ],
          "name": "stdout"
        },
        {
          "output_type": "stream",
          "text": [
            "7016it [01:00, 113.16it/s]"
          ],
          "name": "stderr"
        },
        {
          "output_type": "stream",
          "text": [
            "Train Epoch: 3 [56000/60000 (93%)]\tLoss: 0.429891\n"
          ],
          "name": "stdout"
        },
        {
          "output_type": "stream",
          "text": [
            "7500it [01:04, 115.88it/s]\n",
            "11it [00:00, 107.05it/s]"
          ],
          "name": "stderr"
        },
        {
          "output_type": "stream",
          "text": [
            "\n",
            "Test set: Average loss: 0.0319, Accuracy: 9245/10000 (92%)\n",
            "\n",
            "Train Epoch: 4 [0/60000 (0%)]\tLoss: 0.194177\n"
          ],
          "name": "stdout"
        },
        {
          "output_type": "stream",
          "text": [
            "1014it [00:08, 111.51it/s]"
          ],
          "name": "stderr"
        },
        {
          "output_type": "stream",
          "text": [
            "Train Epoch: 4 [8000/60000 (13%)]\tLoss: 1.049085\n"
          ],
          "name": "stdout"
        },
        {
          "output_type": "stream",
          "text": [
            "2018it [00:17, 117.93it/s]"
          ],
          "name": "stderr"
        },
        {
          "output_type": "stream",
          "text": [
            "Train Epoch: 4 [16000/60000 (27%)]\tLoss: 0.211218\n"
          ],
          "name": "stdout"
        },
        {
          "output_type": "stream",
          "text": [
            "3017it [00:25, 111.65it/s]"
          ],
          "name": "stderr"
        },
        {
          "output_type": "stream",
          "text": [
            "Train Epoch: 4 [24000/60000 (40%)]\tLoss: 1.050360\n"
          ],
          "name": "stdout"
        },
        {
          "output_type": "stream",
          "text": [
            "4017it [00:34, 118.74it/s]"
          ],
          "name": "stderr"
        },
        {
          "output_type": "stream",
          "text": [
            "Train Epoch: 4 [32000/60000 (53%)]\tLoss: 0.246060\n"
          ],
          "name": "stdout"
        },
        {
          "output_type": "stream",
          "text": [
            "5020it [00:43, 124.81it/s]"
          ],
          "name": "stderr"
        },
        {
          "output_type": "stream",
          "text": [
            "Train Epoch: 4 [40000/60000 (67%)]\tLoss: 0.316884\n"
          ],
          "name": "stdout"
        },
        {
          "output_type": "stream",
          "text": [
            "6023it [00:51, 116.62it/s]"
          ],
          "name": "stderr"
        },
        {
          "output_type": "stream",
          "text": [
            "Train Epoch: 4 [48000/60000 (80%)]\tLoss: 0.457223\n"
          ],
          "name": "stdout"
        },
        {
          "output_type": "stream",
          "text": [
            "7022it [01:00, 114.24it/s]"
          ],
          "name": "stderr"
        },
        {
          "output_type": "stream",
          "text": [
            "Train Epoch: 4 [56000/60000 (93%)]\tLoss: 1.064864\n"
          ],
          "name": "stdout"
        },
        {
          "output_type": "stream",
          "text": [
            "7500it [01:04, 116.58it/s]\n",
            "12it [00:00, 111.08it/s]"
          ],
          "name": "stderr"
        },
        {
          "output_type": "stream",
          "text": [
            "\n",
            "Test set: Average loss: 0.0293, Accuracy: 9345/10000 (93%)\n",
            "\n",
            "Train Epoch: 5 [0/60000 (0%)]\tLoss: 0.921768\n"
          ],
          "name": "stdout"
        },
        {
          "output_type": "stream",
          "text": [
            "1020it [00:08, 110.93it/s]"
          ],
          "name": "stderr"
        },
        {
          "output_type": "stream",
          "text": [
            "Train Epoch: 5 [8000/60000 (13%)]\tLoss: 0.229505\n"
          ],
          "name": "stdout"
        },
        {
          "output_type": "stream",
          "text": [
            "2013it [00:17, 116.12it/s]"
          ],
          "name": "stderr"
        },
        {
          "output_type": "stream",
          "text": [
            "Train Epoch: 5 [16000/60000 (27%)]\tLoss: 0.438791\n"
          ],
          "name": "stdout"
        },
        {
          "output_type": "stream",
          "text": [
            "3017it [00:25, 119.11it/s]"
          ],
          "name": "stderr"
        },
        {
          "output_type": "stream",
          "text": [
            "Train Epoch: 5 [24000/60000 (40%)]\tLoss: 0.103024\n"
          ],
          "name": "stdout"
        },
        {
          "output_type": "stream",
          "text": [
            "4014it [00:34, 115.85it/s]"
          ],
          "name": "stderr"
        },
        {
          "output_type": "stream",
          "text": [
            "Train Epoch: 5 [32000/60000 (53%)]\tLoss: 0.121565\n"
          ],
          "name": "stdout"
        },
        {
          "output_type": "stream",
          "text": [
            "5017it [00:42, 118.65it/s]"
          ],
          "name": "stderr"
        },
        {
          "output_type": "stream",
          "text": [
            "Train Epoch: 5 [40000/60000 (67%)]\tLoss: 0.268919\n"
          ],
          "name": "stdout"
        },
        {
          "output_type": "stream",
          "text": [
            "6017it [00:51, 117.81it/s]"
          ],
          "name": "stderr"
        },
        {
          "output_type": "stream",
          "text": [
            "Train Epoch: 5 [48000/60000 (80%)]\tLoss: 0.350054\n"
          ],
          "name": "stdout"
        },
        {
          "output_type": "stream",
          "text": [
            "7021it [00:59, 124.73it/s]"
          ],
          "name": "stderr"
        },
        {
          "output_type": "stream",
          "text": [
            "Train Epoch: 5 [56000/60000 (93%)]\tLoss: 0.141133\n"
          ],
          "name": "stdout"
        },
        {
          "output_type": "stream",
          "text": [
            "7500it [01:03, 117.66it/s]\n",
            "11it [00:00, 108.53it/s]"
          ],
          "name": "stderr"
        },
        {
          "output_type": "stream",
          "text": [
            "\n",
            "Test set: Average loss: 0.0312, Accuracy: 9263/10000 (93%)\n",
            "\n",
            "Train Epoch: 6 [0/60000 (0%)]\tLoss: 0.294138\n"
          ],
          "name": "stdout"
        },
        {
          "output_type": "stream",
          "text": [
            "1018it [00:08, 123.57it/s]"
          ],
          "name": "stderr"
        },
        {
          "output_type": "stream",
          "text": [
            "Train Epoch: 6 [8000/60000 (13%)]\tLoss: 0.615845\n"
          ],
          "name": "stdout"
        },
        {
          "output_type": "stream",
          "text": [
            "2016it [00:17, 119.36it/s]"
          ],
          "name": "stderr"
        },
        {
          "output_type": "stream",
          "text": [
            "Train Epoch: 6 [16000/60000 (27%)]\tLoss: 0.290095\n"
          ],
          "name": "stdout"
        },
        {
          "output_type": "stream",
          "text": [
            "3017it [00:25, 116.85it/s]"
          ],
          "name": "stderr"
        },
        {
          "output_type": "stream",
          "text": [
            "Train Epoch: 6 [24000/60000 (40%)]\tLoss: 0.661836\n"
          ],
          "name": "stdout"
        },
        {
          "output_type": "stream",
          "text": [
            "4014it [00:34, 117.42it/s]"
          ],
          "name": "stderr"
        },
        {
          "output_type": "stream",
          "text": [
            "Train Epoch: 6 [32000/60000 (53%)]\tLoss: 0.849331\n"
          ],
          "name": "stdout"
        },
        {
          "output_type": "stream",
          "text": [
            "5020it [00:42, 114.79it/s]"
          ],
          "name": "stderr"
        },
        {
          "output_type": "stream",
          "text": [
            "Train Epoch: 6 [40000/60000 (67%)]\tLoss: 1.079615\n"
          ],
          "name": "stdout"
        },
        {
          "output_type": "stream",
          "text": [
            "6021it [00:51, 115.02it/s]"
          ],
          "name": "stderr"
        },
        {
          "output_type": "stream",
          "text": [
            "Train Epoch: 6 [48000/60000 (80%)]\tLoss: 0.400259\n"
          ],
          "name": "stdout"
        },
        {
          "output_type": "stream",
          "text": [
            "7021it [00:59, 125.61it/s]"
          ],
          "name": "stderr"
        },
        {
          "output_type": "stream",
          "text": [
            "Train Epoch: 6 [56000/60000 (93%)]\tLoss: 2.542256\n"
          ],
          "name": "stdout"
        },
        {
          "output_type": "stream",
          "text": [
            "7500it [01:03, 117.43it/s]\n",
            "13it [00:00, 126.03it/s]"
          ],
          "name": "stderr"
        },
        {
          "output_type": "stream",
          "text": [
            "\n",
            "Test set: Average loss: 0.0312, Accuracy: 9256/10000 (93%)\n",
            "\n",
            "Train Epoch: 7 [0/60000 (0%)]\tLoss: 0.255020\n"
          ],
          "name": "stdout"
        },
        {
          "output_type": "stream",
          "text": [
            "1019it [00:08, 113.63it/s]"
          ],
          "name": "stderr"
        },
        {
          "output_type": "stream",
          "text": [
            "Train Epoch: 7 [8000/60000 (13%)]\tLoss: 0.312177\n"
          ],
          "name": "stdout"
        },
        {
          "output_type": "stream",
          "text": [
            "2015it [00:17, 116.51it/s]"
          ],
          "name": "stderr"
        },
        {
          "output_type": "stream",
          "text": [
            "Train Epoch: 7 [16000/60000 (27%)]\tLoss: 0.147592\n"
          ],
          "name": "stdout"
        },
        {
          "output_type": "stream",
          "text": [
            "3021it [00:25, 114.85it/s]"
          ],
          "name": "stderr"
        },
        {
          "output_type": "stream",
          "text": [
            "Train Epoch: 7 [24000/60000 (40%)]\tLoss: 0.403205\n"
          ],
          "name": "stdout"
        },
        {
          "output_type": "stream",
          "text": [
            "4022it [00:34, 114.05it/s]"
          ],
          "name": "stderr"
        },
        {
          "output_type": "stream",
          "text": [
            "Train Epoch: 7 [32000/60000 (53%)]\tLoss: 0.195857\n"
          ],
          "name": "stdout"
        },
        {
          "output_type": "stream",
          "text": [
            "5013it [00:42, 114.82it/s]"
          ],
          "name": "stderr"
        },
        {
          "output_type": "stream",
          "text": [
            "Train Epoch: 7 [40000/60000 (67%)]\tLoss: 0.632443\n"
          ],
          "name": "stdout"
        },
        {
          "output_type": "stream",
          "text": [
            "6017it [00:51, 117.23it/s]"
          ],
          "name": "stderr"
        },
        {
          "output_type": "stream",
          "text": [
            "Train Epoch: 7 [48000/60000 (80%)]\tLoss: 0.581702\n"
          ],
          "name": "stdout"
        },
        {
          "output_type": "stream",
          "text": [
            "7022it [00:59, 121.68it/s]"
          ],
          "name": "stderr"
        },
        {
          "output_type": "stream",
          "text": [
            "Train Epoch: 7 [56000/60000 (93%)]\tLoss: 0.236766\n"
          ],
          "name": "stdout"
        },
        {
          "output_type": "stream",
          "text": [
            "7500it [01:03, 117.40it/s]\n",
            "13it [00:00, 123.30it/s]"
          ],
          "name": "stderr"
        },
        {
          "output_type": "stream",
          "text": [
            "\n",
            "Test set: Average loss: 0.0275, Accuracy: 9317/10000 (93%)\n",
            "\n",
            "Train Epoch: 8 [0/60000 (0%)]\tLoss: 0.193671\n"
          ],
          "name": "stdout"
        },
        {
          "output_type": "stream",
          "text": [
            "1024it [00:08, 116.61it/s]"
          ],
          "name": "stderr"
        },
        {
          "output_type": "stream",
          "text": [
            "Train Epoch: 8 [8000/60000 (13%)]\tLoss: 0.542253\n"
          ],
          "name": "stdout"
        },
        {
          "output_type": "stream",
          "text": [
            "2017it [00:17, 115.32it/s]"
          ],
          "name": "stderr"
        },
        {
          "output_type": "stream",
          "text": [
            "Train Epoch: 8 [16000/60000 (27%)]\tLoss: 0.872947\n"
          ],
          "name": "stdout"
        },
        {
          "output_type": "stream",
          "text": [
            "3018it [00:25, 112.38it/s]"
          ],
          "name": "stderr"
        },
        {
          "output_type": "stream",
          "text": [
            "Train Epoch: 8 [24000/60000 (40%)]\tLoss: 1.092577\n"
          ],
          "name": "stdout"
        },
        {
          "output_type": "stream",
          "text": [
            "4014it [00:34, 117.49it/s]"
          ],
          "name": "stderr"
        },
        {
          "output_type": "stream",
          "text": [
            "Train Epoch: 8 [32000/60000 (53%)]\tLoss: 0.088876\n"
          ],
          "name": "stdout"
        },
        {
          "output_type": "stream",
          "text": [
            "5018it [00:42, 114.63it/s]"
          ],
          "name": "stderr"
        },
        {
          "output_type": "stream",
          "text": [
            "Train Epoch: 8 [40000/60000 (67%)]\tLoss: 1.784982\n"
          ],
          "name": "stdout"
        },
        {
          "output_type": "stream",
          "text": [
            "6018it [00:51, 116.44it/s]"
          ],
          "name": "stderr"
        },
        {
          "output_type": "stream",
          "text": [
            "Train Epoch: 8 [48000/60000 (80%)]\tLoss: 0.200335\n"
          ],
          "name": "stdout"
        },
        {
          "output_type": "stream",
          "text": [
            "7018it [01:00, 116.08it/s]"
          ],
          "name": "stderr"
        },
        {
          "output_type": "stream",
          "text": [
            "Train Epoch: 8 [56000/60000 (93%)]\tLoss: 0.124319\n"
          ],
          "name": "stdout"
        },
        {
          "output_type": "stream",
          "text": [
            "7500it [01:04, 116.75it/s]\n",
            "11it [00:00, 108.70it/s]"
          ],
          "name": "stderr"
        },
        {
          "output_type": "stream",
          "text": [
            "\n",
            "Test set: Average loss: 0.0316, Accuracy: 9220/10000 (92%)\n",
            "\n",
            "Train Epoch: 9 [0/60000 (0%)]\tLoss: 0.566688\n"
          ],
          "name": "stdout"
        },
        {
          "output_type": "stream",
          "text": [
            "1013it [00:08, 114.37it/s]"
          ],
          "name": "stderr"
        },
        {
          "output_type": "stream",
          "text": [
            "Train Epoch: 9 [8000/60000 (13%)]\tLoss: 0.564310\n"
          ],
          "name": "stdout"
        },
        {
          "output_type": "stream",
          "text": [
            "2012it [00:17, 113.40it/s]"
          ],
          "name": "stderr"
        },
        {
          "output_type": "stream",
          "text": [
            "Train Epoch: 9 [16000/60000 (27%)]\tLoss: 0.106618\n"
          ],
          "name": "stdout"
        },
        {
          "output_type": "stream",
          "text": [
            "3012it [00:25, 119.83it/s]"
          ],
          "name": "stderr"
        },
        {
          "output_type": "stream",
          "text": [
            "Train Epoch: 9 [24000/60000 (40%)]\tLoss: 0.574487\n"
          ],
          "name": "stdout"
        },
        {
          "output_type": "stream",
          "text": [
            "4020it [00:34, 123.04it/s]"
          ],
          "name": "stderr"
        },
        {
          "output_type": "stream",
          "text": [
            "Train Epoch: 9 [32000/60000 (53%)]\tLoss: 0.629524\n"
          ],
          "name": "stdout"
        },
        {
          "output_type": "stream",
          "text": [
            "5018it [00:42, 118.47it/s]"
          ],
          "name": "stderr"
        },
        {
          "output_type": "stream",
          "text": [
            "Train Epoch: 9 [40000/60000 (67%)]\tLoss: 0.861747\n"
          ],
          "name": "stdout"
        },
        {
          "output_type": "stream",
          "text": [
            "6020it [00:50, 115.18it/s]"
          ],
          "name": "stderr"
        },
        {
          "output_type": "stream",
          "text": [
            "Train Epoch: 9 [48000/60000 (80%)]\tLoss: 0.332030\n"
          ],
          "name": "stdout"
        },
        {
          "output_type": "stream",
          "text": [
            "7023it [00:59, 119.04it/s]"
          ],
          "name": "stderr"
        },
        {
          "output_type": "stream",
          "text": [
            "Train Epoch: 9 [56000/60000 (93%)]\tLoss: 0.180986\n"
          ],
          "name": "stdout"
        },
        {
          "output_type": "stream",
          "text": [
            "7500it [01:03, 117.84it/s]\n",
            "11it [00:00, 108.59it/s]"
          ],
          "name": "stderr"
        },
        {
          "output_type": "stream",
          "text": [
            "\n",
            "Test set: Average loss: 0.0292, Accuracy: 9292/10000 (93%)\n",
            "\n",
            "Train Epoch: 10 [0/60000 (0%)]\tLoss: 0.095304\n"
          ],
          "name": "stdout"
        },
        {
          "output_type": "stream",
          "text": [
            "1024it [00:08, 117.25it/s]"
          ],
          "name": "stderr"
        },
        {
          "output_type": "stream",
          "text": [
            "Train Epoch: 10 [8000/60000 (13%)]\tLoss: 0.473840\n"
          ],
          "name": "stdout"
        },
        {
          "output_type": "stream",
          "text": [
            "2013it [00:17, 115.58it/s]"
          ],
          "name": "stderr"
        },
        {
          "output_type": "stream",
          "text": [
            "Train Epoch: 10 [16000/60000 (27%)]\tLoss: 0.051249\n"
          ],
          "name": "stdout"
        },
        {
          "output_type": "stream",
          "text": [
            "3020it [00:25, 119.95it/s]"
          ],
          "name": "stderr"
        },
        {
          "output_type": "stream",
          "text": [
            "Train Epoch: 10 [24000/60000 (40%)]\tLoss: 0.199870\n"
          ],
          "name": "stdout"
        },
        {
          "output_type": "stream",
          "text": [
            "4022it [00:34, 114.07it/s]"
          ],
          "name": "stderr"
        },
        {
          "output_type": "stream",
          "text": [
            "Train Epoch: 10 [32000/60000 (53%)]\tLoss: 1.589113\n"
          ],
          "name": "stdout"
        },
        {
          "output_type": "stream",
          "text": [
            "5016it [00:42, 121.75it/s]"
          ],
          "name": "stderr"
        },
        {
          "output_type": "stream",
          "text": [
            "Train Epoch: 10 [40000/60000 (67%)]\tLoss: 0.243708\n"
          ],
          "name": "stdout"
        },
        {
          "output_type": "stream",
          "text": [
            "6023it [00:51, 113.16it/s]"
          ],
          "name": "stderr"
        },
        {
          "output_type": "stream",
          "text": [
            "Train Epoch: 10 [48000/60000 (80%)]\tLoss: 0.841077\n"
          ],
          "name": "stdout"
        },
        {
          "output_type": "stream",
          "text": [
            "7020it [00:59, 118.40it/s]"
          ],
          "name": "stderr"
        },
        {
          "output_type": "stream",
          "text": [
            "Train Epoch: 10 [56000/60000 (93%)]\tLoss: 0.194149\n"
          ],
          "name": "stdout"
        },
        {
          "output_type": "stream",
          "text": [
            "7500it [01:03, 117.31it/s]\n",
            "12it [00:00, 110.80it/s]"
          ],
          "name": "stderr"
        },
        {
          "output_type": "stream",
          "text": [
            "\n",
            "Test set: Average loss: 0.0239, Accuracy: 9432/10000 (94%)\n",
            "\n",
            "Train Epoch: 11 [0/60000 (0%)]\tLoss: 0.039620\n"
          ],
          "name": "stdout"
        },
        {
          "output_type": "stream",
          "text": [
            "1025it [00:08, 120.14it/s]"
          ],
          "name": "stderr"
        },
        {
          "output_type": "stream",
          "text": [
            "Train Epoch: 11 [8000/60000 (13%)]\tLoss: 0.811254\n"
          ],
          "name": "stdout"
        },
        {
          "output_type": "stream",
          "text": [
            "2012it [00:17, 117.42it/s]"
          ],
          "name": "stderr"
        },
        {
          "output_type": "stream",
          "text": [
            "Train Epoch: 11 [16000/60000 (27%)]\tLoss: 0.437013\n"
          ],
          "name": "stdout"
        },
        {
          "output_type": "stream",
          "text": [
            "3014it [00:25, 123.26it/s]"
          ],
          "name": "stderr"
        },
        {
          "output_type": "stream",
          "text": [
            "Train Epoch: 11 [24000/60000 (40%)]\tLoss: 0.232317\n"
          ],
          "name": "stdout"
        },
        {
          "output_type": "stream",
          "text": [
            "4014it [00:34, 124.51it/s]"
          ],
          "name": "stderr"
        },
        {
          "output_type": "stream",
          "text": [
            "Train Epoch: 11 [32000/60000 (53%)]\tLoss: 0.029372\n"
          ],
          "name": "stdout"
        },
        {
          "output_type": "stream",
          "text": [
            "5016it [00:42, 122.91it/s]"
          ],
          "name": "stderr"
        },
        {
          "output_type": "stream",
          "text": [
            "Train Epoch: 11 [40000/60000 (67%)]\tLoss: 0.153771\n"
          ],
          "name": "stdout"
        },
        {
          "output_type": "stream",
          "text": [
            "6013it [00:51, 122.46it/s]"
          ],
          "name": "stderr"
        },
        {
          "output_type": "stream",
          "text": [
            "Train Epoch: 11 [48000/60000 (80%)]\tLoss: 0.528916\n"
          ],
          "name": "stdout"
        },
        {
          "output_type": "stream",
          "text": [
            "7019it [01:00, 112.81it/s]"
          ],
          "name": "stderr"
        },
        {
          "output_type": "stream",
          "text": [
            "Train Epoch: 11 [56000/60000 (93%)]\tLoss: 0.066627\n"
          ],
          "name": "stdout"
        },
        {
          "output_type": "stream",
          "text": [
            "7500it [01:04, 116.93it/s]\n",
            "11it [00:00, 102.60it/s]"
          ],
          "name": "stderr"
        },
        {
          "output_type": "stream",
          "text": [
            "\n",
            "Test set: Average loss: 0.0169, Accuracy: 9552/10000 (96%)\n",
            "\n",
            "Train Epoch: 12 [0/60000 (0%)]\tLoss: 0.032623\n"
          ],
          "name": "stdout"
        },
        {
          "output_type": "stream",
          "text": [
            "1016it [00:08, 116.49it/s]"
          ],
          "name": "stderr"
        },
        {
          "output_type": "stream",
          "text": [
            "Train Epoch: 12 [8000/60000 (13%)]\tLoss: 0.110204\n"
          ],
          "name": "stdout"
        },
        {
          "output_type": "stream",
          "text": [
            "2017it [00:17, 115.08it/s]"
          ],
          "name": "stderr"
        },
        {
          "output_type": "stream",
          "text": [
            "Train Epoch: 12 [16000/60000 (27%)]\tLoss: 0.026208\n"
          ],
          "name": "stdout"
        },
        {
          "output_type": "stream",
          "text": [
            "3011it [00:25, 114.06it/s]"
          ],
          "name": "stderr"
        },
        {
          "output_type": "stream",
          "text": [
            "Train Epoch: 12 [24000/60000 (40%)]\tLoss: 0.167019\n"
          ],
          "name": "stdout"
        },
        {
          "output_type": "stream",
          "text": [
            "4015it [00:34, 120.04it/s]"
          ],
          "name": "stderr"
        },
        {
          "output_type": "stream",
          "text": [
            "Train Epoch: 12 [32000/60000 (53%)]\tLoss: 0.149527\n"
          ],
          "name": "stdout"
        },
        {
          "output_type": "stream",
          "text": [
            "5015it [00:42, 117.77it/s]"
          ],
          "name": "stderr"
        },
        {
          "output_type": "stream",
          "text": [
            "Train Epoch: 12 [40000/60000 (67%)]\tLoss: 0.091383\n"
          ],
          "name": "stdout"
        },
        {
          "output_type": "stream",
          "text": [
            "6013it [00:51, 120.96it/s]"
          ],
          "name": "stderr"
        },
        {
          "output_type": "stream",
          "text": [
            "Train Epoch: 12 [48000/60000 (80%)]\tLoss: 0.042609\n"
          ],
          "name": "stdout"
        },
        {
          "output_type": "stream",
          "text": [
            "7023it [00:59, 114.88it/s]"
          ],
          "name": "stderr"
        },
        {
          "output_type": "stream",
          "text": [
            "Train Epoch: 12 [56000/60000 (93%)]\tLoss: 0.217954\n"
          ],
          "name": "stdout"
        },
        {
          "output_type": "stream",
          "text": [
            "7500it [01:03, 117.25it/s]\n",
            "11it [00:00, 106.30it/s]"
          ],
          "name": "stderr"
        },
        {
          "output_type": "stream",
          "text": [
            "\n",
            "Test set: Average loss: 0.0167, Accuracy: 9593/10000 (96%)\n",
            "\n",
            "Train Epoch: 13 [0/60000 (0%)]\tLoss: 0.182278\n"
          ],
          "name": "stdout"
        },
        {
          "output_type": "stream",
          "text": [
            "1021it [00:08, 119.43it/s]"
          ],
          "name": "stderr"
        },
        {
          "output_type": "stream",
          "text": [
            "Train Epoch: 13 [8000/60000 (13%)]\tLoss: 0.124713\n"
          ],
          "name": "stdout"
        },
        {
          "output_type": "stream",
          "text": [
            "2020it [00:17, 126.16it/s]"
          ],
          "name": "stderr"
        },
        {
          "output_type": "stream",
          "text": [
            "Train Epoch: 13 [16000/60000 (27%)]\tLoss: 0.060289\n"
          ],
          "name": "stdout"
        },
        {
          "output_type": "stream",
          "text": [
            "3014it [00:25, 123.08it/s]"
          ],
          "name": "stderr"
        },
        {
          "output_type": "stream",
          "text": [
            "Train Epoch: 13 [24000/60000 (40%)]\tLoss: 0.096746\n"
          ],
          "name": "stdout"
        },
        {
          "output_type": "stream",
          "text": [
            "4012it [00:34, 114.47it/s]"
          ],
          "name": "stderr"
        },
        {
          "output_type": "stream",
          "text": [
            "Train Epoch: 13 [32000/60000 (53%)]\tLoss: 0.584464\n"
          ],
          "name": "stdout"
        },
        {
          "output_type": "stream",
          "text": [
            "5021it [00:42, 122.29it/s]"
          ],
          "name": "stderr"
        },
        {
          "output_type": "stream",
          "text": [
            "Train Epoch: 13 [40000/60000 (67%)]\tLoss: 0.043233\n"
          ],
          "name": "stdout"
        },
        {
          "output_type": "stream",
          "text": [
            "6019it [00:51, 125.18it/s]"
          ],
          "name": "stderr"
        },
        {
          "output_type": "stream",
          "text": [
            "Train Epoch: 13 [48000/60000 (80%)]\tLoss: 0.192968\n"
          ],
          "name": "stdout"
        },
        {
          "output_type": "stream",
          "text": [
            "7022it [00:59, 120.03it/s]"
          ],
          "name": "stderr"
        },
        {
          "output_type": "stream",
          "text": [
            "Train Epoch: 13 [56000/60000 (93%)]\tLoss: 0.009267\n"
          ],
          "name": "stdout"
        },
        {
          "output_type": "stream",
          "text": [
            "7500it [01:03, 117.66it/s]\n",
            "13it [00:00, 122.62it/s]"
          ],
          "name": "stderr"
        },
        {
          "output_type": "stream",
          "text": [
            "\n",
            "Test set: Average loss: 0.0097, Accuracy: 9745/10000 (97%)\n",
            "\n",
            "Train Epoch: 14 [0/60000 (0%)]\tLoss: 0.055459\n"
          ],
          "name": "stdout"
        },
        {
          "output_type": "stream",
          "text": [
            "1020it [00:08, 118.08it/s]"
          ],
          "name": "stderr"
        },
        {
          "output_type": "stream",
          "text": [
            "Train Epoch: 14 [8000/60000 (13%)]\tLoss: 0.067138\n"
          ],
          "name": "stdout"
        },
        {
          "output_type": "stream",
          "text": [
            "2021it [00:17, 120.31it/s]"
          ],
          "name": "stderr"
        },
        {
          "output_type": "stream",
          "text": [
            "Train Epoch: 14 [16000/60000 (27%)]\tLoss: 0.080411\n"
          ],
          "name": "stdout"
        },
        {
          "output_type": "stream",
          "text": [
            "3017it [00:25, 114.05it/s]"
          ],
          "name": "stderr"
        },
        {
          "output_type": "stream",
          "text": [
            "Train Epoch: 14 [24000/60000 (40%)]\tLoss: 0.782657\n"
          ],
          "name": "stdout"
        },
        {
          "output_type": "stream",
          "text": [
            "4018it [00:34, 122.83it/s]"
          ],
          "name": "stderr"
        },
        {
          "output_type": "stream",
          "text": [
            "Train Epoch: 14 [32000/60000 (53%)]\tLoss: 0.020458\n"
          ],
          "name": "stdout"
        },
        {
          "output_type": "stream",
          "text": [
            "5021it [00:42, 113.19it/s]"
          ],
          "name": "stderr"
        },
        {
          "output_type": "stream",
          "text": [
            "Train Epoch: 14 [40000/60000 (67%)]\tLoss: 0.036636\n"
          ],
          "name": "stdout"
        },
        {
          "output_type": "stream",
          "text": [
            "6021it [00:51, 114.63it/s]"
          ],
          "name": "stderr"
        },
        {
          "output_type": "stream",
          "text": [
            "Train Epoch: 14 [48000/60000 (80%)]\tLoss: 0.057903\n"
          ],
          "name": "stdout"
        },
        {
          "output_type": "stream",
          "text": [
            "7022it [00:59, 115.54it/s]"
          ],
          "name": "stderr"
        },
        {
          "output_type": "stream",
          "text": [
            "Train Epoch: 14 [56000/60000 (93%)]\tLoss: 0.082409\n"
          ],
          "name": "stdout"
        },
        {
          "output_type": "stream",
          "text": [
            "7500it [01:03, 117.39it/s]\n"
          ],
          "name": "stderr"
        },
        {
          "output_type": "stream",
          "text": [
            "\n",
            "Test set: Average loss: 0.0069, Accuracy: 9811/10000 (98%)\n",
            "\n"
          ],
          "name": "stdout"
        }
      ]
    },
    {
      "cell_type": "code",
      "metadata": {
        "id": "lqLz2dnzQPxw",
        "colab_type": "code",
        "colab": {}
      },
      "source": [
        ""
      ],
      "execution_count": 0,
      "outputs": []
    }
  ]
}